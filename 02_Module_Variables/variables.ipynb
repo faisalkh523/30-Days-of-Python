{
 "cells": [
  {
   "cell_type": "markdown",
   "metadata": {},
   "source": [
    "# Module 2 of 30 Days of Python By: Faisal Khalid Hassan\n",
    "\n",
    "Exercises: Level 1"
   ]
  },
  {
   "cell_type": "code",
   "execution_count": null,
   "metadata": {},
   "outputs": [],
   "source": [
    "# Q2. Day 2: 30 Days of python programming"
   ]
  },
  {
   "cell_type": "code",
   "execution_count": null,
   "metadata": {},
   "outputs": [],
   "source": [
    "first_name = 'faisal'\n",
    "last_name = 'khalid hassan'\n",
    "full_name = 'faisal khalid hassan'\n",
    "country = 'nigeria'\n",
    "city = 'kano'\n",
    "age = 26\n",
    "year = 2024\n",
    "is_married = False\n",
    "is_true = False\n",
    "is_light_on = True\n",
    "name, age, country, year = 'faisal', 26, 'nigeria', 2024.\n",
    "\n",
    "# Exercises: Level 2\n",
    "print(type(first_name))\n",
    "print(type(last_name))\n",
    "print(type(full_name))\n",
    "print(type(country))\n",
    "print(type(city))\n",
    "print(type(age))\n",
    "print(type(year))\n",
    "print(type(is_married))\n",
    "print(type(is_true))\n",
    "print(type(is_light_on))\n",
    "print(type({name, age, country,}))\n",
    "\n",
    "print(len(first_name))\n",
    "print(len(last_name))\n",
    "print(len(full_name))\n",
    "print(len(country))\n",
    "print(len(city))\n",
    "print(len((name, age, country, year)))"
   ]
  },
  {
   "cell_type": "code",
   "execution_count": null,
   "metadata": {},
   "outputs": [],
   "source": [
    "num_one = 5\n",
    "num_two = 4\n",
    "\n",
    "total = num_one + num_two\n",
    "diff = num_one - num_two\n",
    "product = num_one * num_two\n",
    "division = num_one/num_two\n",
    "remainder = num_one % num_two\n",
    "exp = num_one**num_two\n",
    "floor_division = num_one//num_two\n"
   ]
  },
  {
   "cell_type": "code",
   "execution_count": null,
   "metadata": {},
   "outputs": [],
   "source": [
    "import numpy as np\n",
    "area_of_circle = np.pi*30**2\n",
    "print(area_of_circle)\n",
    " \n",
    "circum_of_circle = 2*np.pi*30\n",
    "print(circum_of_circle)\n",
    "\n",
    "# iii. taking radius as user input calculate area\n",
    "r = (float(input(\"enter the value of r:\")))\n",
    "area = np.pi*r**2\n",
    "print(area)"
   ]
  },
  {
   "cell_type": "code",
   "execution_count": null,
   "metadata": {},
   "outputs": [],
   "source": [
    "first_name = input('first_name:')\n",
    "last_name = input('last_name:')\n",
    "country = input('country:')\n",
    "age = input('age')\n",
    "print(f\"first_name = {first_name}\\n second_name = {last_name}\\n country = {country}\\n age = {age}\")\n",
    "\n",
    "help('keywords')"
   ]
  }
 ],
 "metadata": {
  "kernelspec": {
   "display_name": "base",
   "language": "python",
   "name": "python3"
  },
  "language_info": {
   "codemirror_mode": {
    "name": "ipython",
    "version": 3
   },
   "file_extension": ".py",
   "mimetype": "text/x-python",
   "name": "python",
   "nbconvert_exporter": "python",
   "pygments_lexer": "ipython3",
   "version": "3.12.7"
  }
 },
 "nbformat": 4,
 "nbformat_minor": 2
}
