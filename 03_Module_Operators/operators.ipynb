{
 "cells": [
  {
   "cell_type": "markdown",
   "metadata": {},
   "source": [
    "### Exercises: Module 3\n",
    "module 3 Assignment for Python Programming Fellowship of Arewa Data Science, Cohort 3.0.\n",
    "By: FAISAL KHALID HASSAN"
   ]
  },
  {
   "cell_type": "code",
   "execution_count": null,
   "metadata": {},
   "outputs": [],
   "source": [
    "# Q1. Declaring my age as integer variable\n",
    "age = 26\n",
    "\n",
    "# Q2. Declaring my height as a float variable\n",
    "height = 5.6\n",
    "\n",
    "# Q3. Declare a variable that store a complex number\n",
    "complex_number = 3 + 5j\n"
   ]
  },
  {
   "cell_type": "code",
   "execution_count": null,
   "metadata": {},
   "outputs": [],
   "source": [
    "# Q4. Write a script that prompts the user to enter base and height of the triangle and calculate an area of this triangle (area = 0.5 x b x h).\n",
    "base = input(\"Enter base: \")\n",
    "height = input(\"Enter height\")\n",
    "\n",
    "area = 0.5 * int(base) * int(height)\n",
    "print(\"The area of the triangle is:\", area)"
   ]
  },
  {
   "cell_type": "code",
   "execution_count": null,
   "metadata": {},
   "outputs": [],
   "source": [
    "# Q5. Write a script that prompts the user to enter side a, side b, and side c of the triangle. Calculate the perimeter of the triangle (perimeter = a + b + c).\n",
    "side_a = input(\"Enter side a: \")\n",
    "side_b = input(\"Enter side b: \")\n",
    "side_c = input(\"Enter side c: \")\n",
    "\n",
    "perimeter = int(side_a) + int(side_b) + int(side_c)\n",
    "\n",
    "print(\"The perimeter of the triangle is:\", perimeter)\n"
   ]
  },
  {
   "cell_type": "code",
   "execution_count": null,
   "metadata": {},
   "outputs": [],
   "source": [
    "# Q6. Get length and width of a rectangle using prompt. Calculate its area (area = length x width) and perimeter (perimeter = 2 x (length + width))\n",
    "length = input(\"Enter length: \")\n",
    "width = input(\"Enter width: \")\n",
    "\n",
    "area = int(length) * int(width)\n",
    "perimeter = 2 * (int(length) + int(width))\n",
    "\n",
    "print (\"Area of rectangle: \", area)\n",
    "print(\"Perimeter of rectangle: \", perimeter)    "
   ]
  },
  {
   "cell_type": "code",
   "execution_count": null,
   "metadata": {},
   "outputs": [],
   "source": [
    "# Q7. Get radius of a circle using prompt. Calculate the area (area = pi x r x r) and circumference (c = 2 x pi x r) where pi = 3.14.\n",
    "\n",
    "radius = input(\"Enter radius: \")\n",
    "\n",
    "area = 3.14 * int(radius) **2\n",
    "circumference = 2 * 3.14 * int(radius)\n",
    "\n",
    "print(\"Area of circle:\", area)\n",
    "print(\"Circumference of circle:\", circumference)"
   ]
  },
  {
   "cell_type": "code",
   "execution_count": null,
   "metadata": {},
   "outputs": [],
   "source": [
    "# Q8. Calculate the slope, x-intercept and y-intercept of y = 2x -2\n",
    "\n",
    "slope = 2\n",
    "x_intercept = 0\n",
    "y_intercept = -2"
   ]
  },
  {
   "cell_type": "code",
   "execution_count": null,
   "metadata": {},
   "outputs": [],
   "source": [
    "# Q9.as_integer_ratioSlope is (m = y2-y1/x2-x1). Find the slope and Euclidean distance between point (2, 2) and point (6,10)\n",
    "first_points = [2, 2]\n",
    "second_points = [6, 10]\n",
    "\n",
    "# Slope m = (y2 - y1) / (x2 - x1)\n",
    "slope = ((second_points[1]-first_points[1]) / (second_points[0]-first_points[0]))\n",
    "print(\"slope m =\", slope)\n",
    "\n",
    "# Euclidean distance\n",
    "import math\n",
    "euclidiean_distance = math.sqrt(((second_points[0]-first_points[0])**2) + ((second_points[1]-first_points[1])**2))\n",
    "print(\"euclidiean distance =\", euclidiean_distance)\n",
    "\n",
    "# Q10. Compare the slopes in tasks 8 and 9.\n",
    "# both the slope are thesame\n"
   ]
  },
  {
   "cell_type": "code",
   "execution_count": null,
   "metadata": {},
   "outputs": [],
   "source": [
    "import numpy as np\n",
    "\n",
    "# Define the function y = x^2 + 6x + 9\n",
    "def calculate_y(x):\n",
    "    return x**2 + 6*x + 9\n",
    "\n",
    "# Generate a range of x values\n",
    "x_values = np.arange(-6, 2, 1)  # From -6 to 1 (inclusive of -6, exclusive of 2)\n",
    "y_values = [calculate_y(x) for x in x_values]  # Calculate y for each x\n",
    "\n",
    "# Find the x where y = 0\n",
    "x_where_y_is_zero = [x for x, y in zip(x_values, y_values) if y == 0]\n",
    "\n",
    "# Print the results\n",
    "for x, y in zip(x_values, y_values):\n",
    "    print(f\"x = {x}, y = {y}\")\n",
    "\n",
    "print(f\"\\nThe value of x where y = 0 is: {x_where_y_is_zero}\")\n"
   ]
  },
  {
   "cell_type": "code",
   "execution_count": null,
   "metadata": {},
   "outputs": [],
   "source": [
    "# Q12. Find the length of 'python' and 'dragon' and make a falsy comparison statement.\n",
    "\n",
    "print(len(\"python\") != len(\"dragon\"))"
   ]
  },
  {
   "cell_type": "code",
   "execution_count": null,
   "metadata": {},
   "outputs": [],
   "source": [
    "# Q13. Use and operator to check if 'on' is found in both 'python' and 'dragon'\n",
    "\n",
    "print(('on'in 'python') and  ('on' in 'dragon'))"
   ]
  },
  {
   "cell_type": "code",
   "execution_count": null,
   "metadata": {},
   "outputs": [],
   "source": [
    "# Q14. I hope this course is not full of jargon. Use in operator to check if jargon is in the sentence.\n",
    "\n",
    "print('jargon' in 'i hope this course is not full of jargon')"
   ]
  },
  {
   "cell_type": "code",
   "execution_count": null,
   "metadata": {},
   "outputs": [],
   "source": [
    "# Q15. There is no 'on' in both dragon and python\n",
    "\n",
    "print('on' not in 'dragon' and 'on' not in 'python') "
   ]
  },
  {
   "cell_type": "code",
   "execution_count": null,
   "metadata": {},
   "outputs": [],
   "source": [
    "# Q16. Find the length of the text python and convert the value to float and convert it to string\n",
    "\n",
    "text = 'python'\n",
    "value = len(text)\n",
    "print(value)\n",
    "\n",
    "value_to_float = float(value)           # converting the value to float\n",
    "print(value_to_float)\n",
    "\n",
    "value_to_string = str(value_to_float)  # converting the float value to string\n",
    "print(value_to_string)"
   ]
  },
  {
   "cell_type": "code",
   "execution_count": null,
   "metadata": {},
   "outputs": [],
   "source": [
    "# Q17. Even numbers are divisible by 2 and the remainder is zero. How do you check if a number is even or not using python?\n",
    "\n",
    "number = int(input(\"Enter number:\"))        # input  number\n",
    "\n",
    "if number % 2 == 0 :            \n",
    "    print(f'{number} is even.')\n",
    "else :\n",
    "    print(f'{number} is odd.')"
   ]
  },
  {
   "cell_type": "code",
   "execution_count": null,
   "metadata": {},
   "outputs": [],
   "source": [
    "# Q18. Check if the floor division of 7 by 3 is equal to the int converted value of 2.7.\n",
    "a = 7\n",
    "b = 3\n",
    "floor_division = a//b       # floor division\n",
    "print(floor_division)\n",
    "\n",
    "int_value = int(2.7)        # int converted value of 2.7\n",
    "print(int_value)"
   ]
  },
  {
   "cell_type": "code",
   "execution_count": null,
   "metadata": {},
   "outputs": [],
   "source": [
    "# Q19. Check if type of '10' is equal to type of 10\n",
    "type('10')\n",
    "type(10)\n",
    "\n",
    "print(\"first type:\", type('10'))\n",
    "print(\"second type:\", type(10))"
   ]
  },
  {
   "cell_type": "code",
   "execution_count": null,
   "metadata": {},
   "outputs": [],
   "source": [
    "# Q 20. Check if int('9.8') is equal to 10\n",
    "\n",
    "int(float('9.8'))       # the int('9.8') is not equal to 10"
   ]
  },
  {
   "cell_type": "code",
   "execution_count": null,
   "metadata": {},
   "outputs": [],
   "source": [
    "# Q21. Writ a script that prompts the user to enter hours and rate per hour. Calculate pay of the person?\n",
    "\n",
    "hours = int(input(\"Enter hours:\"))\n",
    "rate = int (input(\"Enter rate per hour:\"))\n",
    "\n",
    "pay = hours * rate                              # calculating earning in hours at a given rate\n",
    "print(\"Your weekly earning is\", pay)"
   ]
  },
  {
   "cell_type": "code",
   "execution_count": null,
   "metadata": {},
   "outputs": [],
   "source": [
    "# Q22. Write a script that prompts the user to enter number of years. Calculate the number of seconds a person can live. Assume a person can live hundred years\n",
    "\n",
    "years = int(input(\"Enter number of years you have lived:\"))\n",
    "\n",
    "years_per_seconds = years*365*24*60*60                              # converting the years to seconds\n",
    "\n",
    "print(\"You have lived for\", years_per_seconds, \"seconds.\")"
   ]
  },
  {
   "cell_type": "code",
   "execution_count": null,
   "metadata": {},
   "outputs": [],
   "source": [
    "# Q23. Write a Python script that displays the following table\n",
    "1 1 1 1 1\n",
    "2 1 2 4 8\n",
    "3 1 3 9 27\n",
    "4 1 4 16 64\n",
    "5 1 5 25 125\n",
    "\n",
    "\n",
    "for x in range(1, 6):                  # Loop through the numbers 1 to 5\n",
    "    # Print the values for the current x: x, X^0, x^1, x^2, x^3, x^4\n",
    "    print(f\"{x} {x**0} {x**1} {x**2} {x**3}\")\n"
   ]
  }
 ],
 "metadata": {
  "kernelspec": {
   "display_name": "base",
   "language": "python",
   "name": "python3"
  },
  "language_info": {
   "codemirror_mode": {
    "name": "ipython",
    "version": 3
   },
   "file_extension": ".py",
   "mimetype": "text/x-python",
   "name": "python",
   "nbconvert_exporter": "python",
   "pygments_lexer": "ipython3",
   "version": "3.12.7"
  }
 },
 "nbformat": 4,
 "nbformat_minor": 2
}
