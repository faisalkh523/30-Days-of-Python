{
 "cells": [
  {
   "cell_type": "markdown",
   "metadata": {},
   "source": [
    "### Exercises: Module 7 (Conditionals)\n",
    "module 7 Assignment for Python Programming for Data Science Fellowship of Arewa Data Science, Cohort 3.0.\n",
    "By: FAISAL KHALID HASSAN"
   ]
  },
  {
   "cell_type": "markdown",
   "metadata": {},
   "source": [
    "#### Exercises: Level 1"
   ]
  },
  {
   "cell_type": "code",
   "execution_count": null,
   "metadata": {},
   "outputs": [],
   "source": [
    "# Q1. Get user input using input(“Enter your age: ”). If user is 18 or older, give feedback: You are old enough to drive. If below 18 give feedback to wait for the missing amount of years. Output:\n",
    "# Enter your age: 30\n",
    "# You are old enough to learn to drive.\n",
    "# Output:\n",
    "# Enter your age: 15\n",
    "# You need 3 more years to learn to drive.\n",
    "\n",
    "user_input = int(input('Enter your age'))\n",
    "if user_input >= 18:\n",
    "    print('You are old enough to drive')\n",
    "if user_input < 18:\n",
    "    print(f' you need {18 - user_input} years to learn to drive.')\n",
    "\n",
    "# Q2. Compare the values of my_age and your_age using if … else. Who is older (me or you)? Use input(“Enter your age: ”) to get the age as input. You can use a nested condition to print 'year' for 1 year difference in age, 'years' for bigger differences, and a custom text if my_age = your_age. Output:\n",
    "my_age = int(input('Enter your age:'))\n",
    "your_age = int(input('Enter your age:'))\n",
    "if your_age == my_age + 1: \n",
    "    print('You are a year older than me.')\n",
    "else:\n",
    "    print(f'You are {your_age - my_age} years older than me.')\n",
    "\n",
    "# Q3. Get two numbers from the user using input prompt. If a is greater than b return a is greater than b, if a is less b return a is smaller than b, else a is equal to b.\n",
    "a = int(input('Enter number one:'))\n",
    "b = int(input('Enter number two:'))\n",
    "if a  > b:\n",
    "    print(f'{a} is greater than {b}.')\n",
    "elif a < b:\n",
    "    print(f'{a} is smaller than {b}.')\n",
    "else:\n",
    "    print(f'{a} is equal to {b}.')"
   ]
  },
  {
   "cell_type": "markdown",
   "metadata": {},
   "source": [
    "#### Exercises: Level 2"
   ]
  },
  {
   "cell_type": "code",
   "execution_count": null,
   "metadata": {},
   "outputs": [],
   "source": [
    "# Q1. Write a code which gives grade to students according to theirs scores:\n",
    "# 80-100, A\n",
    "# 70-79, B\n",
    "# 60-69, C\n",
    "# 50-59, D\n",
    "# 0-49, F\n",
    "\n",
    "grade = int(input('Enter student grade:'))\n",
    "if grade >= 80:\n",
    "    print('Your Grade is A')\n",
    "elif grade >= 70 and grade < 80\n",
    "    print('Your Grade is B')\n",
    "elif grade >= 60 and grade < 70:\n",
    "    print('Your Grade is C')\n",
    "elif grade >= 50 and grade < 60:\n",
    "    print('Your Grade is D')\n",
    "else:\n",
    "    print('Your Grade is F')\n",
    "\n",
    "# Q2. Check if the season is Autumn, Winter, Spring or Summer. If the user input is: September, October or November, the season is Autumn. December, January or February, the season is Winter. March, April or May, the season is Spring June, July or August, the season is Summer\n",
    "user_input = str(input('Enter the month:'))\n",
    "\n",
    "if user_input in ['September', 'October', 'November']:\n",
    "    print('the season is Autumn.')\n",
    "elif user_input in ['December', 'January', 'February']:\n",
    "    print('The season is Winter.')\n",
    "elif user_input in ['March', 'April', 'May']:\n",
    "    print('the season is Spring.')\n",
    "else:\n",
    "    print('The season is Summer.')\n",
    "\n",
    "# Q3. The following list contains some fruits:\n",
    "# fruits = ['banana', 'orange', 'mango', 'lemon']\n",
    "# If a fruit doesn't exist in the list add the fruit to the list and print the modified list. If the fruit exists print('That fruit already exist in the list')\n",
    "fruits = ['banana', 'orange', 'mango', 'lemon']\n",
    "if str(input('Enter the fruit')).lower() in fruits:\n",
    "    print('That fruit already exist in the list')\n",
    "else:\n",
    "    fruits.append('cashew')\n",
    "    print('fruit added')\n",
    "    print(fruits)\n"
   ]
  },
  {
   "cell_type": "markdown",
   "metadata": {},
   "source": [
    "#### Exercuses: Level 3"
   ]
  },
  {
   "cell_type": "code",
   "execution_count": null,
   "metadata": {},
   "outputs": [],
   "source": [
    "# Q1. Here we have a person dictionary. Feel free to modify it!\n",
    "\n",
    "person={ \n",
    "'first_name': 'Asabeneh', \n",
    "'last_name': 'Yetayeh', \n",
    "'age': 250, \n",
    "'country': 'Finland', \n",
    "'is_marred': True, \n",
    "'skills': ['JavaScript', 'React', 'Node', 'MongoDB', 'Python'], \n",
    "'address': { 'street': 'Space street', 'zipcode': '02210'  },\n",
    "}\n",
    "# Check if the person dictionary has skills key, if so print out the middle skill in the skills list.\n",
    "skills = person['skills']\n",
    "if 'skills' in person:\n",
    "    print('skills is in the dictionary')\n",
    "\n",
    "middle_index = len('skills') // 2\n",
    "print(middle_index)\n",
    "if len(skills) % 2 == 0:\n",
    "    print(skills[middle_index])\n",
    "else:\n",
    "    print(skills[middle_index:middle_index + 1])\n",
    "\n",
    "# Check if the person dictionary has skills key, if so check if the person has 'Python' skill and print out the result.\n",
    "person = 'skills'\n",
    "if 'skills' in person:\n",
    "    print('skills is in person dictionary')\n",
    "else: \n",
    "    print('skills doesnot exist in person dictionary')\n",
    "if 'python' in skills:\n",
    "    print('python is in skills dictionary')\n",
    "else:\n",
    "    print('python is not in skills dictionary')\n",
    "\n",
    "# If a person skills has only JavaScript and React, print('He is a front end developer'), if the person skills has Node, Python, MongoDB, print('He is a backend developer'), if the person skills has React, Node and MongoDB, Print('He is a fullstack developer'), else print('unknown title') - for more accurate results more conditions can be nested!\n",
    "person={ \n",
    "'first_name': 'Asabeneh', \n",
    "'last_name': 'Yetayeh', \n",
    "'age': 250, \n",
    "'country': 'Finland', \n",
    "'is_marred': True, \n",
    "'skills': ['JavaScript', 'React', 'Node', 'MongoDB', 'Python'], \n",
    "'address': { 'street': 'Space street', 'zipcode': '02210'  },\n",
    "}\n",
    "person_skills = person['skills']\n",
    "if skills == {'JavaScript', 'React'}:\n",
    "    print('He is a front end developer')\n",
    "elif skills == {'Node', 'Python', 'MongoDB'}:\n",
    "    print('He is a backend developer')\n",
    "elif skills == {'React', 'Node', 'MongoDB'}:\n",
    "    print('He is fullstack developer')\n",
    "else:\n",
    "    print('unknown title')\n",
    "\n",
    "print(f\"{person['first_name']} {person['last_name']} lives in {person['country']}. He is married.\")\n",
    " \n",
    " "
   ]
  }
 ],
 "metadata": {
  "kernelspec": {
   "display_name": "base",
   "language": "python",
   "name": "python3"
  },
  "language_info": {
   "codemirror_mode": {
    "name": "ipython",
    "version": 3
   },
   "file_extension": ".py",
   "mimetype": "text/x-python",
   "name": "python",
   "nbconvert_exporter": "python",
   "pygments_lexer": "ipython3",
   "version": "3.12.7"
  }
 },
 "nbformat": 4,
 "nbformat_minor": 2
}
