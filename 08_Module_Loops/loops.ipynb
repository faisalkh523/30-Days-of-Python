{
 "cells": [
  {
   "cell_type": "markdown",
   "metadata": {},
   "source": [
    "### Exercises: Module 8 (loops)\n",
    "module 8 Assignment for Python Programming for Data Science Fellowship of Arewa Data Science, Cohort 3.0.\n",
    "By: FAISAL KHALID HASSAN"
   ]
  },
  {
   "cell_type": "markdown",
   "metadata": {},
   "source": [
    "#### Exercises: Level 1"
   ]
  },
  {
   "cell_type": "code",
   "execution_count": null,
   "metadata": {},
   "outputs": [],
   "source": [
    "# Q1. Iterate 0 to 10 using for loop, do the same using while loop.\n",
    "count = 0               # initial count\n",
    "while count <= 10:\n",
    "    print(count)\n",
    "    count += 1          # increment the previous count\n",
    "\n",
    "# Q2. Iterate 10 to 0 using for loop, do the same using while loop.\n",
    "count = 10              # initil count\n",
    "while count >= 0:\n",
    "    print(count)\n",
    "    count -= 1             # decrement the previous count\n",
    "\n",
    "# Q3. Write a loop that makes seven calls to print(), so we get on the output the following triangle:\n",
    "\n",
    "#\n",
    "##\n",
    "###\n",
    "####\n",
    "#####\n",
    "######\n",
    "#######\n",
    "\n",
    "for i in range(1,8):\n",
    "    print('#' *i)"
   ]
  },
  {
   "cell_type": "code",
   "execution_count": null,
   "metadata": {},
   "outputs": [],
   "source": [
    "# Q4. Use nested loops to create the following:\n",
    "\n",
    "# # # # # # # #\n",
    "# # # # # # # #\n",
    "# # # # # # # #\n",
    "# # # # # # # #\n",
    "# # # # # # # #\n",
    "# # # # # # # #\n",
    "# # # # # # # #\n",
    "# # # # # # # #\n",
    "\n",
    "for x in range(8):          # outer loop\n",
    "    for y in range(8):      # inner loop\n",
    "        print('#', end='')  # print '#' with out a new line\n",
    "    print()                 # move to next line after each row\n",
    "\n"
   ]
  },
  {
   "cell_type": "code",
   "execution_count": null,
   "metadata": {},
   "outputs": [],
   "source": [
    "# Q5. Print the following pattern:\n",
    "\n",
    "# 0 x 0 = 0\n",
    "# 1 x 1 = 1\n",
    "# 2 x 2 = 4\n",
    "# 3 x 3 = 9\n",
    "# 4 x 4 = 16\n",
    "# 5 x 5 = 25\n",
    "# 6 x 6 = 36\n",
    "# 7 x 7 = 49\n",
    "# 8 x 8 = 64\n",
    "# 9 x 9 = 81\n",
    "# 10 x 10 = 100\n",
    "\n",
    "for i in range (0,11):\n",
    "\n",
    "    print(f\"{i} x {i} = \",i*i)"
   ]
  },
  {
   "cell_type": "code",
   "execution_count": null,
   "metadata": {},
   "outputs": [],
   "source": [
    "# Q6. Iterate through the list, ['Python', 'Numpy','Pandas','Django', 'Flask'] using a for loop and print out the items.\n",
    "libraries =  ['Python', 'Numpy','Pandas','Django', 'Flask']\n",
    "for library in libraries:\n",
    "    print(library)\n",
    "    \n",
    "# output\n",
    "# Python\n",
    "# Numpy\n",
    "# Pandas\n",
    "# Django\n",
    "# Flask\n",
    "\n",
    "# Q7. Use for loop to iterate from 0 to 100 and print only even numbers\n",
    "print(\"\\nThe even numbers are as follow:\")\n",
    "for number in range (0,101):\n",
    "    if number % 2 == 0:         # for even numbers\n",
    "        print(number)\n",
    "        if number % 2 != 0:\n",
    "            continue\n",
    "\n",
    "# Q8. Use for loop to iterate from 0 to 100 and print only odd numbers\n",
    "print(\"\\nThe odd numbers are as follow:\")\n",
    "for number in range(0,101):\n",
    "    if number % 2 !=0:              # for odd numbers\n",
    "        print(number)\n",
    "        if number % 2 == 0:\n",
    "            continue"
   ]
  },
  {
   "cell_type": "markdown",
   "metadata": {},
   "source": [
    "#### Exercises: Level 2"
   ]
  },
  {
   "cell_type": "code",
   "execution_count": null,
   "metadata": {},
   "outputs": [],
   "source": [
    "# Q1. Use for loop to iterate from 0 to 100 and print the sum of all numbers.\n",
    "sum = 0\n",
    "for number in range(0, 101):\n",
    "    sum += number\n",
    "    print(sum)          # 5050\n",
    "\n",
    "\n",
    "# Q2. Use for loop to iterate from 0 to 100 and print the sum of all evens and the sum of all odds.\n",
    "# for even numbers.\n",
    "sum_of_even = 0\n",
    "for number in range(0, 101):\n",
    "    if number % 2 == 0:    # even numbers\n",
    "        sum_of_even += number\n",
    "        print(sum_of_even)      # 2550\n",
    "\n",
    "# for odd numbers.\n",
    "sum_of_odd = 0\n",
    "for number in range(0, 101):\n",
    "    if number % 2 != 0:      # i.e an odd numbers\n",
    "        sum_of_odd += number\n",
    "        print(sum_of_odd)       # 2500"
   ]
  },
  {
   "cell_type": "markdown",
   "metadata": {},
   "source": [
    "#### Exercise: Level 3\n"
   ]
  },
  {
   "cell_type": "markdown",
   "metadata": {},
   "source": [
    "Q2. This is a fruit list, ['banana', 'orange', 'mango', 'lemon'] reverse the order using loop."
   ]
  },
  {
   "cell_type": "code",
   "execution_count": null,
   "metadata": {},
   "outputs": [],
   "source": [
    "fruits = ['banana', 'orange', 'mango', 'lemon']\n",
    "empty_list = []\n",
    "while fruits:\n",
    "    new_list = fruits.pop()         # iterate over the list\n",
    "    empty_list.append(new_list)     # update the empty list \n",
    "print(empty_list)   \n",
    "\n",
    "# empty_list = ['lemon', 'mango', 'orange', 'banana']"
   ]
  }
 ],
 "metadata": {
  "kernelspec": {
   "display_name": "base",
   "language": "python",
   "name": "python3"
  },
  "language_info": {
   "codemirror_mode": {
    "name": "ipython",
    "version": 3
   },
   "file_extension": ".py",
   "mimetype": "text/x-python",
   "name": "python",
   "nbconvert_exporter": "python",
   "pygments_lexer": "ipython3",
   "version": "3.12.7"
  }
 },
 "nbformat": 4,
 "nbformat_minor": 2
}
