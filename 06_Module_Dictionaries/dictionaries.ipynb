{
 "cells": [
  {
   "cell_type": "markdown",
   "metadata": {},
   "source": [
    "### Exercises: Module 6\n",
    "module 6 Assignment for Python Programming for Data Science Fellowship of Arewa Data Science, Cohort 3.0.\n",
    "By: FAISAL KHALID HASSAN"
   ]
  },
  {
   "cell_type": "code",
   "execution_count": null,
   "metadata": {},
   "outputs": [
    {
     "name": "stdout",
     "output_type": "stream",
     "text": [
      "{'name': 'richard', 'color': 'brown', 'breed': 'german shepherd', 'legs': 2, 'age': 3}\n",
      "9\n",
      "['python', 'C', 'visual basics']\n",
      "<class 'list'>\n",
      "['python', 'C', 'visual basics', 'java']\n",
      "dict_keys(['first_name', 'last_name', 'gender', 'age', 'marital status', 'skills', 'country', 'city', 'address'])\n",
      "dict_values(['faisal', 'khalid hassan', 'male', 27, 'single', ['python', 'C', 'visual basics', 'java'], 'nigeria', 'kano', {'street': 'Tudun yola', 'house no.': 'NO. 85'}])\n",
      "dict_items([('first_name', 'faisal'), ('last_name', 'khalid hassan'), ('gender', 'male'), ('age', 27), ('marital status', 'single'), ('skills', ['python', 'C', 'visual basics', 'java']), ('country', 'nigeria'), ('city', 'kano'), ('address', {'street': 'Tudun yola', 'house no.': 'NO. 85'})])\n",
      "{'first_name': 'faisal', 'last_name': 'khalid hassan', 'gender': 'male', 'age': 27, 'marital status': 'single', 'country': 'nigeria', 'city': 'kano', 'address': {'street': 'Tudun yola', 'house no.': 'NO. 85'}}\n",
      "{'name': 'richard', 'color': 'brown', 'breed': 'german shepherd', 'legs': 2, 'age': 3}\n"
     ]
    }
   ],
   "source": [
    "# Q1. Create an empty dictionary called dog.\n",
    "dog = {}\n",
    "\n",
    "# Q2. Add name, color, breed, legs, age to the dog dictionary.\n",
    "dog['name'] = 'richard'\n",
    "dog['color'] = 'brown'\n",
    "dog['breed'] = 'german shepherd'\n",
    "dog['legs'] = 2\n",
    "dog['age'] = 3\n",
    "print(dog)\n",
    "\n",
    "# Q3. Create a student dictionary and add first_name, last_name, gender, age, marital status, skills, country, city and address as keys for the dictionary.\n",
    "student_dict = {\n",
    "'first_name':'faisal', \n",
    "'last_name': 'khalid hassan', \n",
    "'gender':'male', \n",
    "'age': 27, \n",
    "'marital status': 'single', \n",
    "'skills':['python', 'C', 'visual basics'],\n",
    "'country':'nigeria',\n",
    "'city':'kano',\n",
    "'address': {\n",
    "'street': 'Tudun yola',\n",
    "'house no.':'NO. 85',\n",
    "}\n",
    "}\n",
    "\n",
    "# Q4. Get the length of the student dictionary.\n",
    "print(len(student_dict))\n",
    "\n",
    "# Q5. Get the value of skills and check the data type, it should be a list.\n",
    "value_of_skills = student_dict['skills']\n",
    "print(value_of_skills)\n",
    "\n",
    "print(type(value_of_skills)) # checking the data type.\n",
    "# yes the data type is a list\n",
    "\n",
    "# Q6. Modify the skills values by adding one or two skills.\n",
    "value_of_skills.append('java')          # adding java to skills value\n",
    "print(value_of_skills)\n",
    "\n",
    "# Q7. Get the dictionary keys as a list.\n",
    "keys_as_list = student_dict.keys()\n",
    "print(keys_as_list)\n",
    "\n",
    "# Q8. Get the dictionary values as a list.\n",
    "values_as_list = student_dict.values()\n",
    "print(values_as_list)\n",
    "\n",
    "# Q9. Change the dictionary to a list of tuples using items() method.\n",
    "dict_to_list_of_tuple = student_dict.items()\n",
    "print(dict_to_list_of_tuple)\n",
    "\n",
    "# Q 10. Delete one of the items in the dictionary.\n",
    "student_dict.pop('skills') # This remove the skills value pair.\n",
    "print(student_dict)\n",
    "\n",
    "# Q 11. Delete one of the dictionaries\n",
    "print(dog)              # the dog dictionary exists with its keys and values.\n",
    "del dog                 # this delete the entire dictionary."
   ]
  }
 ],
 "metadata": {
  "kernelspec": {
   "display_name": "base",
   "language": "python",
   "name": "python3"
  },
  "language_info": {
   "codemirror_mode": {
    "name": "ipython",
    "version": 3
   },
   "file_extension": ".py",
   "mimetype": "text/x-python",
   "name": "python",
   "nbconvert_exporter": "python",
   "pygments_lexer": "ipython3",
   "version": "3.12.7"
  }
 },
 "nbformat": 4,
 "nbformat_minor": 2
}
