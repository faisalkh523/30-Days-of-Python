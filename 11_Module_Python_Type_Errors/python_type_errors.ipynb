{
 "cells": [
  {
   "cell_type": "markdown",
   "metadata": {},
   "source": [
    "### The errors covered in this section are as follows\n",
    "\n",
    "1. SyntaxError\n",
    "2. NameError\n",
    "3. IndexError\n",
    "4. ModuleNotFoundError\n",
    "5. AttributeError\n",
    "6. KeyError\n",
    "7. TypeError\n",
    "8. ImportError\n",
    "9. ValueError\n",
    "10. ZeroDivisionError\n",
    "\n"
   ]
  }
 ],
 "metadata": {
  "language_info": {
   "name": "python"
  }
 },
 "nbformat": 4,
 "nbformat_minor": 2
}
