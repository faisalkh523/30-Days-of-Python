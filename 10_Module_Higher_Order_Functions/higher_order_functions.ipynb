{
 "cells": [
  {
   "cell_type": "markdown",
   "metadata": {},
   "source": [
    "## Exercises: Module 10 (Higher Order Functions)\n",
    "module 10 Assignment of Python Programming for Data Science Fellowship of Arewa Data Science, Cohort 3.0. By: FAISAL KHALID HASSAN"
   ]
  },
  {
   "cell_type": "code",
   "execution_count": null,
   "metadata": {},
   "outputs": [],
   "source": [
    "countries = ['Estonia', 'Finland', 'Sweden', 'Denmark', 'Norway', 'Iceland']\n",
    "names = ['Asabeneh', 'Lidiya', 'Ermias', 'Abraham']\n",
    "numbers = [1, 2, 3, 4, 5, 6, 7, 8, 9, 10]"
   ]
  },
  {
   "cell_type": "markdown",
   "metadata": {},
   "source": [
    "## Exercises: Level 1\n",
    "### Q1. Explain the difference between map, filter, and reduce.\n",
    "Map ,filter and reduce bring some form of functional programming to python. All three functions take a function as the first argument and an iterable as the second argument of the function. map and filter return an iterable, eg a list , though it actually returns a map object that can be cast into a list. map calls the function in the first argument and returns the result of the function for each of the elements in the iterable. Filter on the other hand, only returns elements that satisfies the condition in the function argument. reduce is a bit different as it returns a single answer i.e. it reduces the iterable to a single answer. It should be noted that map and filter functions return map objects and filter objects respectively. Printing map and filter objects without casting to a list will give the memory location of the object.\n",
    "\n",
    "### Q2. Explain the difference between higher order function, closure and decorator.\n",
    "A higher order function is a function that either takes in a function as a parameter or returns a function or both. Decorators and closures are all higher order functions. Decorators return a closure and A closure is what is returned by a decorator. Closures are used to preserve outer scope inside an inner scope,making variables act like they are private. Decorators are convenient ways to make changes to the functionality of code without making changes to the code. A decorator is written as a function closure and implemented by giving the @ operator on top of the function.\n",
    "\n",
    "### Q3. Define a call function before map, filter or reduce, see examples."
   ]
  },
  {
   "cell_type": "code",
   "execution_count": null,
   "metadata": {},
   "outputs": [],
   "source": [
    "# function to be called in the map function\n",
    "def square(x):\n",
    "    return x * x\n",
    "\n",
    "numbers = [1, 2, 3, 4, 5]\n",
    "squared_numbers = list(map(square, numbers))\n",
    "print(squared_numbers)"
   ]
  },
  {
   "cell_type": "code",
   "execution_count": null,
   "metadata": {},
   "outputs": [],
   "source": [
    "# Q4. Use for loop to print each country in the countries list.\n",
    "for country in countries:\n",
    "    print(country)"
   ]
  },
  {
   "cell_type": "code",
   "execution_count": null,
   "metadata": {},
   "outputs": [],
   "source": [
    "# Q5. Use for to print each name in the names list.\n",
    "for name in names:\n",
    "    print(name)"
   ]
  },
  {
   "cell_type": "code",
   "execution_count": null,
   "metadata": {},
   "outputs": [],
   "source": [
    "# Q6. Use for to print each number in the numbers list.\n",
    "for number in numbers:\n",
    "    print(number)"
   ]
  },
  {
   "cell_type": "markdown",
   "metadata": {},
   "source": [
    "# Exercises: Level 2"
   ]
  },
  {
   "cell_type": "markdown",
   "metadata": {},
   "source": [
    "Q1. Use map to create a new list by changing each country to uppercase in the countries list"
   ]
  },
  {
   "cell_type": "code",
   "execution_count": null,
   "metadata": {},
   "outputs": [],
   "source": [
    "upper_case_countries = list(map(lambda x:x.upper(),countries))\n",
    "print(f'countries in upper case: {upper_case_countries} ')"
   ]
  },
  {
   "cell_type": "markdown",
   "metadata": {},
   "source": [
    "Q2. Use map to create a new list by changing each number to its square in the numbers list"
   ]
  },
  {
   "cell_type": "code",
   "execution_count": null,
   "metadata": {},
   "outputs": [],
   "source": [
    "squared_numbers = list(map(lambda x:x**2,numbers))\n",
    "print(f'The square of the numbers: {squared_numbers} ')"
   ]
  },
  {
   "cell_type": "markdown",
   "metadata": {},
   "source": [
    "Q3. Use map to change each name to uppercase in the names list "
   ]
  },
  {
   "cell_type": "code",
   "execution_count": null,
   "metadata": {},
   "outputs": [],
   "source": [
    "upper_case_names = list(map(lambda x:x.upper(),names))\n",
    "print(f'Uppercase of the names: {upper_case_names} ')"
   ]
  },
  {
   "cell_type": "markdown",
   "metadata": {},
   "source": [
    "Q4. Use filter to filter out countries containing 'land'."
   ]
  },
  {
   "cell_type": "code",
   "execution_count": null,
   "metadata": {},
   "outputs": [],
   "source": [
    "contains_land = list(filter(lambda x:'land' in x,countries))\n",
    "print(f' The countries with land in their name: {contains_land}')"
   ]
  },
  {
   "cell_type": "markdown",
   "metadata": {},
   "source": [
    "Q5. Use filter to filter out countries having exactly six characters."
   ]
  },
  {
   "cell_type": "code",
   "execution_count": null,
   "metadata": {},
   "outputs": [],
   "source": [
    "six_chars = list(filter(lambda x:len(x)==6,countries))\n",
    "print(f'The countries with six characters: {six_chars} ')"
   ]
  },
  {
   "cell_type": "markdown",
   "metadata": {},
   "source": [
    "Q6. Use filter to filter out countries containing six letters and more in the country list."
   ]
  },
  {
   "cell_type": "code",
   "execution_count": null,
   "metadata": {},
   "outputs": [],
   "source": [
    "six_or_more_chars = list(filter(lambda x:len(x) >= 6,countries))\n",
    "print(f'Countries with six or more characters in their names: {six_or_more_chars} ')"
   ]
  },
  {
   "cell_type": "markdown",
   "metadata": {},
   "source": [
    "Q7. Use filter to filter out countries starting with an 'E'"
   ]
  },
  {
   "cell_type": "code",
   "execution_count": null,
   "metadata": {},
   "outputs": [],
   "source": [
    "starting_with_e = list(filter(lambda x:x.startswith('E'),countries))\n",
    "print(f' Countries starting with E in the list are: {starting_with_e}')"
   ]
  },
  {
   "cell_type": "markdown",
   "metadata": {},
   "source": [
    "Q8. Chain two or more list iterators (eg. arr.map(callback).filter(callback).reduce(callback))"
   ]
  },
  {
   "cell_type": "code",
   "execution_count": null,
   "metadata": {},
   "outputs": [],
   "source": [
    "from functools import reduce\n",
    "\n",
    "numbers = [3, 5, 8, 2, 14]\n",
    "squared_even_numbers_sum = reduce(lambda x, y: x + y, \n",
    "                                   list(filter(lambda x: x % 2 == 0, \n",
    "                                                map(lambda x: x**2, numbers))))\n",
    "print(squared_even_numbers_sum)"
   ]
  },
  {
   "cell_type": "markdown",
   "metadata": {},
   "source": [
    "Q9. Declare a function called get_string_lists which takes a list as a parameter and then returns a list containing only string items."
   ]
  },
  {
   "cell_type": "code",
   "execution_count": null,
   "metadata": {},
   "outputs": [],
   "source": [
    "def get_string_lists(list):\n",
    "    return [str(item) for item in list]\n",
    "\n",
    "str_nums = get_string_lists(numbers)\n",
    "str_nums"
   ]
  },
  {
   "cell_type": "markdown",
   "metadata": {},
   "source": [
    "Q10. Use reduce to sum all the numbers in the numbers list."
   ]
  },
  {
   "cell_type": "code",
   "execution_count": null,
   "metadata": {},
   "outputs": [],
   "source": [
    "from functools import reduce\n",
    "def add(x,y):\n",
    "    return x + y\n",
    "sum_all = reduce(add,numbers)\n",
    "print(f'The sum of {numbers} is {sum_all}')"
   ]
  },
  {
   "cell_type": "markdown",
   "metadata": {},
   "source": [
    "Q11. Use reduce to concatenate all the countries and to produce this sentence: Estonia, Finland, Sweden, Denmark, Norway, and Iceland are north European countries"
   ]
  },
  {
   "cell_type": "code",
   "execution_count": null,
   "metadata": {},
   "outputs": [],
   "source": [
    "concat = reduce(lambda x,y:x + ',' + ' '+ y,countries[:-1])\n",
    "print(f'{concat} and {countries[-1]} are North European countries ')"
   ]
  },
  {
   "cell_type": "markdown",
   "metadata": {},
   "source": [
    "Q12. Declare a function called categorize_countries that returns a list of countries with some common pattern (you can find the countries list in this repository as countries.js(eg 'land', 'ia', 'island', 'stan'))."
   ]
  },
  {
   "cell_type": "code",
   "execution_count": null,
   "metadata": {},
   "outputs": [],
   "source": [
    "countries = [\n",
    "  'Afghanistan',\n",
    "  'Albania',\n",
    "  'Algeria',\n",
    "  'Andorra',\n",
    "  'Angola',\n",
    "  'Antigua and Barbuda',\n",
    "  'Argentina',\n",
    "  'Armenia',\n",
    "  'Australia',\n",
    "  'Austria',\n",
    "  'Azerbaijan',\n",
    "  'Bahamas',\n",
    "  'Bahrain',\n",
    "  'Bangladesh',\n",
    "  'Barbados',\n",
    "  'Belarus',\n",
    "  'Belgium',\n",
    "  'Belize',\n",
    "  'Benin',\n",
    "  'Bhutan',\n",
    "  'Bolivia',\n",
    "  'Bosnia and Herzegovina',\n",
    "  'Botswana',\n",
    "  'Brazil',\n",
    "  'Brunei',\n",
    "  'Bulgaria',\n",
    "  'Burkina Faso',\n",
    "  'Burundi',\n",
    "  'Cambodia',\n",
    "  'Cameroon',\n",
    "  'Canada',\n",
    "  'Cape Verde',\n",
    "  'Central African Republic',\n",
    "  'Chad',\n",
    "  'Chile',\n",
    "  'China',\n",
    "  'Colombi',\n",
    "  'Comoros',\n",
    "  'Congo (Brazzaville)',\n",
    "  'Congo',\n",
    "  'Costa Rica',\n",
    "  \"Cote d'Ivoire\",\n",
    "  'Croatia',\n",
    "  'Cuba',\n",
    "  'Cyprus',\n",
    "  'Czech Republic',\n",
    "  'Denmark',\n",
    "  'Djibouti',\n",
    "  'Dominica',\n",
    "  'Dominican Republic',\n",
    "  'East Timor (Timor Timur)',\n",
    "  'Ecuador',\n",
    "  'Egypt',\n",
    "  'El Salvador',\n",
    "  'Equatorial Guinea',\n",
    "  'Eritrea',\n",
    "  'Estonia',\n",
    "  'Ethiopia',\n",
    "  'Fiji',\n",
    "  'Finland',\n",
    "  'France',\n",
    "  'Gabon',\n",
    "  'Gambia, The',\n",
    "  'Georgia',\n",
    "  'Germany',\n",
    "  'Ghana',\n",
    "  'Greece',\n",
    "  'Grenada',\n",
    "  'Guatemala',\n",
    "  'Guinea',\n",
    "  'Guinea-Bissau',\n",
    "  'Guyana',\n",
    "  'Haiti',\n",
    "  'Honduras',\n",
    "  'Hungary',\n",
    "  'Iceland',\n",
    "  'India',\n",
    "  'Indonesia',\n",
    "  'Iran',\n",
    "  'Iraq',\n",
    "  'Ireland',\n",
    "  'Israel',\n",
    "  'Italy',\n",
    "  'Jamaica',\n",
    "  'Japan',\n",
    "  'Jordan',\n",
    "  'Kazakhstan',\n",
    "  'Kenya',\n",
    "  'Kiribati',\n",
    "  'Korea, North',\n",
    "  'Korea, South',\n",
    "  'Kuwait',\n",
    "  'Kyrgyzstan',\n",
    "  'Laos',\n",
    "  'Latvia',\n",
    "  'Lebanon',\n",
    "  'Lesotho',\n",
    "  'Liberia',\n",
    "  'Libya',\n",
    "  'Liechtenstein',\n",
    "  'Lithuania',\n",
    "  'Luxembourg',\n",
    "  'Macedonia',\n",
    "  'Madagascar',\n",
    "  'Malawi',\n",
    "  'Malaysia',\n",
    "  'Maldives',\n",
    "  'Mali',\n",
    "  'Malta',\n",
    "  'Marshall Islands',\n",
    "  'Mauritania',\n",
    "  'Mauritius',\n",
    "  'Mexico',\n",
    "  'Micronesia',\n",
    "  'Moldova',\n",
    "  'Monaco',\n",
    "  'Mongolia',\n",
    "  'Morocco',\n",
    "  'Mozambique',\n",
    "  'Myanmar',\n",
    "  'Namibia',\n",
    "  'Nauru',\n",
    "  'Nepal',\n",
    "  'Netherlands',\n",
    "  'New Zealand',\n",
    "  'Nicaragua',\n",
    "  'Niger',\n",
    "  'Nigeria',\n",
    "  'Norway',\n",
    "  'Oman',\n",
    "  'Pakistan',\n",
    "  'Palau',\n",
    "  'Panama',\n",
    "  'Papua New Guinea',\n",
    "  'Paraguay',\n",
    "  'Peru',\n",
    "  'Philippines',\n",
    "  'Poland',\n",
    "  'Portugal',\n",
    "  'Qatar',\n",
    "  'Romania',\n",
    "  'Russia',\n",
    "  'Rwanda',\n",
    "  'Saint Kitts and Nevis',\n",
    "  'Saint Lucia',\n",
    "  'Saint Vincent',\n",
    "  'Samoa',\n",
    "  'San Marino',\n",
    "  'Sao Tome and Principe',\n",
    "  'Saudi Arabia',\n",
    "  'Senegal',\n",
    "  'Serbia and Montenegro',\n",
    "  'Seychelles',\n",
    "  'Sierra Leone',\n",
    "  'Singapore',\n",
    "  'Slovakia',\n",
    "  'Slovenia',\n",
    "  'Solomon Islands',\n",
    "  'Somalia',\n",
    "  'South Africa',\n",
    "  'Spain',\n",
    "  'Sri Lanka',\n",
    "  'Sudan',\n",
    "  'Suriname',\n",
    "  'Swaziland',\n",
    "  'Sweden',\n",
    "  'Switzerland',\n",
    "  'Syria',\n",
    "  'Taiwan',\n",
    "  'Tajikistan',\n",
    "  'Tanzania',\n",
    "  'Thailand',\n",
    "  'Togo',\n",
    "  'Tonga',\n",
    "  'Trinidad and Tobago',\n",
    "  'Tunisia',\n",
    "  'Turkey',\n",
    "  'Turkmenistan',\n",
    "  'Tuvalu',\n",
    "  'Uganda',\n",
    "  'Ukraine',\n",
    "  'United Arab Emirates',\n",
    "  'United Kingdom',\n",
    "  'United States',\n",
    "  'Uruguay',\n",
    "  'Uzbekistan',\n",
    "  'Vanuatu',\n",
    "  'Vatican City',\n",
    "  'Venezuela',\n",
    "  'Vietnam',\n",
    "  'Yemen',\n",
    "  'Zambia',\n",
    "  'Zimbabwe',\n",
    "]\n",
    "\n",
    "def categorize_countries(pattern):\n",
    "    list_countries = []\n",
    "    for country in countries:\n",
    "        if pattern.lower() in country:\n",
    "            list_countries.append(country)\n",
    "    return list_countries\n",
    "\n",
    "print(f'Countries with \"pattern\": ',categorize_countries('stan'))"
   ]
  },
  {
   "cell_type": "markdown",
   "metadata": {},
   "source": [
    "Q13. Create a function returning a dictionary, where keys stand for starting letters of countries and values are the number of country names starting with that letter."
   ]
  },
  {
   "cell_type": "code",
   "execution_count": null,
   "metadata": {},
   "outputs": [],
   "source": [
    "def countries_dict():\n",
    "    dict_countries = {}\n",
    "    for country in countries:\n",
    "        dict_countries[country[0]] = dict_countries.get(country[0],0) + 1\n",
    "    return dict_countries\n",
    "print(f' Dictionary of number of countries per letter: {countries_dict()}')"
   ]
  },
  {
   "cell_type": "markdown",
   "metadata": {},
   "source": [
    "Q14. Declare a get_first_ten_countries function - it returns a list of first ten countries from the countries.js list in the data folder."
   ]
  },
  {
   "cell_type": "code",
   "execution_count": null,
   "metadata": {},
   "outputs": [],
   "source": [
    "def get_first_ten_countries():\n",
    "    return countries[:10]\n",
    "\n",
    "print(f' First ten countries in the countries list: {get_first_ten_countries()}')"
   ]
  },
  {
   "cell_type": "markdown",
   "metadata": {},
   "source": [
    "Q15. Declare a get_last_ten_countries function that returns the last ten countries in the countries list."
   ]
  },
  {
   "cell_type": "code",
   "execution_count": null,
   "metadata": {},
   "outputs": [],
   "source": [
    "def get_last_ten_countries():\n",
    "    return countries[-10:]\n",
    "\n",
    "print(f'The last ten countries in the countries list: {get_last_ten_countries()}')"
   ]
  },
  {
   "cell_type": "markdown",
   "metadata": {},
   "source": [
    "# Exercises: Level 3"
   ]
  },
  {
   "cell_type": "markdown",
   "metadata": {},
   "source": [
    "Use the countries_data.py (https://github.com/Asabeneh/30-Days-Of-Python/blob/master/data/countries-data.py) file and follow the tasks below:\n",
    "\n",
    "1. Sort countries by name, by capital, by population\n",
    "2. Sort out the ten most spoken languages by location.\n",
    "3. Sort out the ten most populated countries."
   ]
  },
  {
   "cell_type": "code",
   "execution_count": null,
   "metadata": {},
   "outputs": [],
   "source": [
    "from country_data import countries_data\n",
    "\n",
    "# Sorting list by name, by capital and by population\n",
    "# by name\n",
    "sorted_list_name = sorted(countries_data,key=lambda d: d['name'])\n",
    "sorted_list_name[-11:] # checking a subset as the list is too large\n",
    "\n",
    "# by capital\n",
    "sorted_list_cap = sorted(countries_data,key=lambda d:d['capital'])\n",
    "sorted_list_cap[-5:]  # checking subset\n",
    "\n",
    "# by population\n",
    "sorted_list_pop = sorted(countries_data,key=lambda d:d['population'])\n",
    "sorted_list_pop[-5:]\n",
    "\n",
    "\n",
    "lang_dict = dict()\n",
    "for i in range(len(countries_data)):\n",
    "    for language in countries_data[i]['languages']:\n",
    "        lang_dict[language] = lang_dict.get(language,0) + 1\n",
    "lang_tpl = sorted(lang_dict.items(),key= lambda x:x[1],reverse=True)\n",
    "lang_tpl[:10]\n",
    "# [('English', 91), ('French', 45), ('Arabic', 25), ('Spanish', 24), ('Portuguese', 9), ('Russian', 9), ('Dutch', 8), ('German', 7), ('Chinese', 5), ('Serbian', 4)]\n",
    "# most spoken languages by the number of countries that language is spoken in\n",
    "\n",
    "# ten most populated countries = sorted_list_pop in descending order, getting a new list\n",
    "pop = sorted(countries_data,key= lambda d:d['population'],reverse=True)\n",
    "top_ten =  pop[:10]\n",
    "top_ten\n",
    "# getting the countries from the top ten\n",
    "top_pop_countries = []\n",
    "for i in range(len(top_ten)):\n",
    "    top_pop_countries.append(top_ten[i]['name'])\n",
    "top_pop_countries"
   ]
  }
 ],
 "metadata": {
  "kernelspec": {
   "display_name": "base",
   "language": "python",
   "name": "python3"
  },
  "language_info": {
   "codemirror_mode": {
    "name": "ipython",
    "version": 3
   },
   "file_extension": ".py",
   "mimetype": "text/x-python",
   "name": "python",
   "nbconvert_exporter": "python",
   "pygments_lexer": "ipython3",
   "version": "3.12.7"
  }
 },
 "nbformat": 4,
 "nbformat_minor": 2
}
