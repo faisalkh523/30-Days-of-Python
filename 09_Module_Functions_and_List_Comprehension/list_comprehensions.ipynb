{
 "cells": [
  {
   "cell_type": "markdown",
   "metadata": {},
   "source": [
    "### List Comprehensions Exercises"
   ]
  },
  {
   "cell_type": "code",
   "execution_count": null,
   "metadata": {},
   "outputs": [],
   "source": [
    "# Q1. Filter only negative and zero in the list using list comprehension\n",
    "numbers = [-4, -3, -2, -1, 0, 2, 4, 6]\n",
    "filtered_negative_numbers = [i for i in numbers if i > 0]\n",
    "print(filtered_negative_numbers)    # [2, 4, 6]\n",
    "\n",
    "# Q2. Flatten the following list of lists of lists to a one dimensional list \n",
    "list_of_lists =[[[1, 2, 3]], [[4, 5, 6]], [[7, 8, 9]]]\n",
    "flattened_list_of_lists = [item for sublist1 in list_of_lists for sublist2 in sublist1 for item in sublist2]\n",
    "print(flattened_list_of_lists)  # [1, 2, 3, 4, 5, 6, 7, 8, 9]\n",
    "\n",
    "# Q3. Using list comprehension create the following list of tuples:\n",
    "\n",
    "# [(0, 1, 0, 0, 0, 0, 0),\n",
    "# (1, 1, 1, 1, 1, 1, 1),\n",
    "# (2, 1, 2, 4, 8, 16, 32),\n",
    "# (3, 1, 3, 9, 27, 81, 243),\n",
    "# (4, 1, 4, 16, 64, 256, 1024),\n",
    "# (5, 1, 5, 25, 125, 625, 3125),\n",
    "# (6, 1, 6, 36, 216, 1296, 7776),\n",
    "# (7, 1, 7, 49, 343, 2401, 16807),\n",
    "# (8, 1, 8, 64, 512, 4096, 32768),\n",
    "# (9, 1, 9, 81, 729, 6561, 59049),\n",
    "# (10, 1, 10, 100, 1000, 10000, 100000)]\n",
    "\n",
    "list_of_tuples = [\n",
    "    (i, *[i**j for j in range(6)])  # Each tuple for i from 0 to 10\n",
    "    for i in range(11)]             # Loop over i from 0 to 10\n",
    "print( list_of_tuples)\n",
    "\n",
    "# Q4. Flatten the following list to a new list:\n",
    "# countries = [[('Finland', 'Helsinki')], [('Sweden', 'Stockholm')], [('Norway', 'Oslo')]]\n",
    "\n",
    "countries = [[('Finland', 'Helsinki')], [('Sweden', 'Stockholm')], [('Norway', 'Oslo')]]\n",
    "flattened = [[country[0].upper(), country[0][:3].upper(), country[1].upper()] for sublist in countries for country in sublist]\n",
    "print(flattened)\n",
    "# output\n",
    "# [['FINLAND', 'FIN', 'HELSINKI'], ['SWEDEN', 'SWE', 'STOCKHOLM'], ['NORWAY', 'NOR', 'OSLO']]\n",
    "\n",
    "# Q5. Change the following list to a list of dictionaries:\n",
    "# countries = [[('Finland', 'Helsinki')], [('Sweden', 'Stockholm')], [('Norway', 'Oslo')]]\n",
    "countries = [[('Finland', 'Helsinki')], [('Sweden', 'Stockholm')], [('Norway', 'Oslo')]]\n",
    "dictionary = [{'country': country[0].upper(), 'city': country[1].upper()} for sublist in countries for country in sublist]\n",
    "print(dictionary) # [{'country': 'FINLAND', 'city': 'HELSINKI'}, {'country': 'SWEDEN', 'city': 'STOCKHOLM'}, {'country': 'NORWAY', 'city': 'OSLO'}]\n",
    "\n",
    "# Q6. Change the following list of lists to a list of concatenated strings:\n",
    "# names = [[('Asabeneh', 'Yetayeh')], [('David', 'Smith')], [('Donald', 'Trump')], [('Bill', 'Gates')]]\n",
    "\n",
    "names = [[('Asabeneh', 'Yetayeh')], [('David', 'Smith')], [('Donald', 'Trump')], [('Bill', 'Gates')]]\n",
    "concatenated_strings =  [f'{name[0][0]} {name[0][1]}' for name in names]\n",
    "print(concatenated_strings) # ['Asabeneh Yetayeh', 'David Smith', 'Donald Trump', 'Bill Gates']\n",
    "\n",
    "# Q7. Write a lambda function which can solve a slope or y-intercept of linear functions.\n",
    "slope = lambda x1, y1, x2, y2: ((y2 - y1) / (x2 - x1))\n",
    "print(slope(2,4,6,8)) # 1.0\n"
   ]
  }
 ],
 "metadata": {
  "kernelspec": {
   "display_name": "base",
   "language": "python",
   "name": "python3"
  },
  "language_info": {
   "codemirror_mode": {
    "name": "ipython",
    "version": 3
   },
   "file_extension": ".py",
   "mimetype": "text/x-python",
   "name": "python",
   "nbconvert_exporter": "python",
   "pygments_lexer": "ipython3",
   "version": "3.12.7"
  }
 },
 "nbformat": 4,
 "nbformat_minor": 2
}
